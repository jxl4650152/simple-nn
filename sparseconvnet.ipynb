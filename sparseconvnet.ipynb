{
 "cells": [
  {
   "cell_type": "code",
   "execution_count": 1,
   "id": "3fae7b6a",
   "metadata": {
    "_cell_guid": "b1076dfc-b9ad-4769-8c92-a6c4dae69d19",
    "_uuid": "8f2839f25d086af736a60e9eeb907d3b93b6e0e5",
    "execution": {
     "iopub.execute_input": "2023-12-26T09:54:21.964255Z",
     "iopub.status.busy": "2023-12-26T09:54:21.963354Z",
     "iopub.status.idle": "2023-12-26T09:54:23.637051Z",
     "shell.execute_reply": "2023-12-26T09:54:23.635934Z"
    },
    "papermill": {
     "duration": 1.680084,
     "end_time": "2023-12-26T09:54:23.639356",
     "exception": false,
     "start_time": "2023-12-26T09:54:21.959272",
     "status": "completed"
    },
    "tags": []
   },
   "outputs": [
    {
     "name": "stdout",
     "output_type": "stream",
     "text": [
      "/bin/bash: line 1: cd: SparseConvNet: No such file or directory\r\n",
      "Cloning into 'SparseConvNet'...\r\n",
      "remote: Enumerating objects: 1949, done.\u001b[K\r\n",
      "remote: Counting objects: 100% (69/69), done.\u001b[K\r\n",
      "remote: Compressing objects: 100% (52/52), done.\u001b[K\r\n",
      "remote: Total 1949 (delta 36), reused 39 (delta 17), pack-reused 1880\u001b[K\r\n",
      "Receiving objects: 100% (1949/1949), 925.45 KiB | 11.71 MiB/s, done.\r\n",
      "Resolving deltas: 100% (1385/1385), done.\r\n"
     ]
    }
   ],
   "source": [
    "!if cd SparseConvNet; then bash develop.sh; else git clone https://github.com/facebookresearch/SparseConvNet.git; fi"
   ]
  },
  {
   "cell_type": "code",
   "execution_count": 2,
   "id": "34b9a2d0",
   "metadata": {
    "collapsed": true,
    "execution": {
     "iopub.execute_input": "2023-12-26T09:54:23.646333Z",
     "iopub.status.busy": "2023-12-26T09:54:23.646004Z",
     "iopub.status.idle": "2023-12-26T09:54:50.100704Z",
     "shell.execute_reply": "2023-12-26T09:54:50.099523Z"
    },
    "jupyter": {
     "outputs_hidden": true
    },
    "papermill": {
     "duration": 26.460868,
     "end_time": "2023-12-26T09:54:50.103175",
     "exception": false,
     "start_time": "2023-12-26T09:54:23.642307",
     "status": "completed"
    },
    "tags": []
   },
   "outputs": [
    {
     "name": "stdout",
     "output_type": "stream",
     "text": [
      "Collecting torchnet\r\n",
      "  Downloading torchnet-0.0.4.tar.gz (23 kB)\r\n",
      "  Preparing metadata (setup.py) ... \u001b[?25l-\b \bdone\r\n",
      "\u001b[?25hRequirement already satisfied: torch in /opt/conda/lib/python3.10/site-packages (from torchnet) (2.0.0)\r\n",
      "Requirement already satisfied: six in /opt/conda/lib/python3.10/site-packages (from torchnet) (1.16.0)\r\n",
      "Collecting visdom (from torchnet)\r\n",
      "  Downloading visdom-0.2.4.tar.gz (1.4 MB)\r\n",
      "\u001b[2K     \u001b[90m━━━━━━━━━━━━━━━━━━━━━━━━━━━━━━━━━━━━━━━━\u001b[0m \u001b[32m1.4/1.4 MB\u001b[0m \u001b[31m21.5 MB/s\u001b[0m eta \u001b[36m0:00:00\u001b[0m\r\n",
      "\u001b[?25h  Preparing metadata (setup.py) ... \u001b[?25l-\b \b\\\b \bdone\r\n",
      "\u001b[?25hRequirement already satisfied: filelock in /opt/conda/lib/python3.10/site-packages (from torch->torchnet) (3.12.2)\r\n",
      "Requirement already satisfied: typing-extensions in /opt/conda/lib/python3.10/site-packages (from torch->torchnet) (4.5.0)\r\n",
      "Requirement already satisfied: sympy in /opt/conda/lib/python3.10/site-packages (from torch->torchnet) (1.12)\r\n",
      "Requirement already satisfied: networkx in /opt/conda/lib/python3.10/site-packages (from torch->torchnet) (3.1)\r\n",
      "Requirement already satisfied: jinja2 in /opt/conda/lib/python3.10/site-packages (from torch->torchnet) (3.1.2)\r\n",
      "Requirement already satisfied: numpy>=1.8 in /opt/conda/lib/python3.10/site-packages (from visdom->torchnet) (1.24.3)\r\n",
      "Requirement already satisfied: scipy in /opt/conda/lib/python3.10/site-packages (from visdom->torchnet) (1.11.4)\r\n",
      "Requirement already satisfied: requests in /opt/conda/lib/python3.10/site-packages (from visdom->torchnet) (2.31.0)\r\n",
      "Requirement already satisfied: tornado in /opt/conda/lib/python3.10/site-packages (from visdom->torchnet) (6.3.3)\r\n",
      "Requirement already satisfied: jsonpatch in /opt/conda/lib/python3.10/site-packages (from visdom->torchnet) (1.32)\r\n",
      "Requirement already satisfied: websocket-client in /opt/conda/lib/python3.10/site-packages (from visdom->torchnet) (1.6.2)\r\n",
      "Requirement already satisfied: pillow in /opt/conda/lib/python3.10/site-packages (from visdom->torchnet) (10.1.0)\r\n",
      "Requirement already satisfied: MarkupSafe>=2.0 in /opt/conda/lib/python3.10/site-packages (from jinja2->torch->torchnet) (2.1.3)\r\n",
      "Requirement already satisfied: jsonpointer>=1.9 in /opt/conda/lib/python3.10/site-packages (from jsonpatch->visdom->torchnet) (2.0)\r\n",
      "Requirement already satisfied: charset-normalizer<4,>=2 in /opt/conda/lib/python3.10/site-packages (from requests->visdom->torchnet) (3.2.0)\r\n",
      "Requirement already satisfied: idna<4,>=2.5 in /opt/conda/lib/python3.10/site-packages (from requests->visdom->torchnet) (3.4)\r\n",
      "Requirement already satisfied: urllib3<3,>=1.21.1 in /opt/conda/lib/python3.10/site-packages (from requests->visdom->torchnet) (1.26.15)\r\n",
      "Requirement already satisfied: certifi>=2017.4.17 in /opt/conda/lib/python3.10/site-packages (from requests->visdom->torchnet) (2023.11.17)\r\n",
      "Requirement already satisfied: mpmath>=0.19 in /opt/conda/lib/python3.10/site-packages (from sympy->torch->torchnet) (1.3.0)\r\n",
      "Building wheels for collected packages: torchnet, visdom\r\n",
      "  Building wheel for torchnet (setup.py) ... \u001b[?25l-\b \b\\\b \bdone\r\n",
      "\u001b[?25h  Created wheel for torchnet: filename=torchnet-0.0.4-py3-none-any.whl size=29727 sha256=755290a48101f241ef7557f3f90a0030a03c24e5c44499fc7a388725d63c678c\r\n",
      "  Stored in directory: /root/.cache/pip/wheels/f7/ae/94/9f5edd6871983f30967ad11d60ef434c3d1b007654de4c8065\r\n",
      "  Building wheel for visdom (setup.py) ... \u001b[?25l-\b \b\\\b \bdone\r\n",
      "\u001b[?25h  Created wheel for visdom: filename=visdom-0.2.4-py3-none-any.whl size=1408194 sha256=d9974d5a04de6f72e9c7c6adf9b111b042aa4a5919e4ca7fcb74d04a1de41b0d\r\n",
      "  Stored in directory: /root/.cache/pip/wheels/42/29/49/5bed207bac4578e4d2c0c5fc0226bfd33a7e2953ea56356855\r\n",
      "Successfully built torchnet visdom\r\n",
      "Installing collected packages: visdom, torchnet\r\n",
      "Successfully installed torchnet-0.0.4 visdom-0.2.4\r\n"
     ]
    }
   ],
   "source": [
    "!pip install torchnet"
   ]
  },
  {
   "cell_type": "code",
   "execution_count": 3,
   "id": "548b292a",
   "metadata": {
    "execution": {
     "iopub.execute_input": "2023-12-26T09:54:50.113508Z",
     "iopub.status.busy": "2023-12-26T09:54:50.113170Z",
     "iopub.status.idle": "2023-12-26T09:54:53.167319Z",
     "shell.execute_reply": "2023-12-26T09:54:53.166069Z"
    },
    "papermill": {
     "duration": 3.062276,
     "end_time": "2023-12-26T09:54:53.170011",
     "exception": false,
     "start_time": "2023-12-26T09:54:50.107735",
     "status": "completed"
    },
    "tags": []
   },
   "outputs": [
    {
     "name": "stdout",
     "output_type": "stream",
     "text": [
      "ResNet-A-VSC.py  VGG-C.py  VGG-Cplus.py  data.py  readPotFiles.py\r\n",
      "Traceback (most recent call last):\r\n",
      "  File \"/kaggle/working/SparseConvNet/examples/Chinese_handwriting/VGG-C.py\", line 9, in <module>\r\n",
      "    import sparseconvnet as scn\r\n",
      "ModuleNotFoundError: No module named 'sparseconvnet'\r\n"
     ]
    }
   ],
   "source": [
    "!cp /kaggle/input/data-py/data.py /kaggle/working/SparseConvNet/examples/Chinese_handwriting/data.py && cd /kaggle/working/SparseConvNet/examples/Chinese_handwriting && ls && python VGG-C.py"
   ]
  }
 ],
 "metadata": {
  "kaggle": {
   "accelerator": "gpu",
   "dataSources": [
    {
     "datasetId": 4223063,
     "sourceId": 7283043,
     "sourceType": "datasetVersion"
    }
   ],
   "dockerImageVersionId": 30627,
   "isGpuEnabled": true,
   "isInternetEnabled": true,
   "language": "python",
   "sourceType": "notebook"
  },
  "kernelspec": {
   "display_name": "Python 3",
   "language": "python",
   "name": "python3"
  },
  "language_info": {
   "codemirror_mode": {
    "name": "ipython",
    "version": 3
   },
   "file_extension": ".py",
   "mimetype": "text/x-python",
   "name": "python",
   "nbconvert_exporter": "python",
   "pygments_lexer": "ipython3",
   "version": "3.10.12"
  },
  "papermill": {
   "default_parameters": {},
   "duration": 35.382622,
   "end_time": "2023-12-26T09:54:53.493934",
   "environment_variables": {},
   "exception": null,
   "input_path": "__notebook__.ipynb",
   "output_path": "__notebook__.ipynb",
   "parameters": {},
   "start_time": "2023-12-26T09:54:18.111312",
   "version": "2.4.0"
  }
 },
 "nbformat": 4,
 "nbformat_minor": 5
}
